{
 "cells": [
  {
   "cell_type": "code",
   "execution_count": null,
   "id": "8d84ecb1",
   "metadata": {},
   "outputs": [],
   "source": [
    "!pip install pandas seaborn auto-sklearn"
   ]
  },
  {
   "cell_type": "code",
   "execution_count": null,
   "id": "4e360e10",
   "metadata": {},
   "outputs": [],
   "source": [
    "!pip install scikit-learn==1.0.2"
   ]
  },
  {
   "cell_type": "code",
   "execution_count": null,
   "id": "d23367cd",
   "metadata": {},
   "outputs": [],
   "source": [
    "import pandas as pd"
   ]
  },
  {
   "cell_type": "code",
   "execution_count": null,
   "id": "3ac76c8a",
   "metadata": {},
   "outputs": [],
   "source": [
    "import seaborn as sns"
   ]
  },
  {
   "cell_type": "code",
   "execution_count": null,
   "id": "44891504",
   "metadata": {},
   "outputs": [],
   "source": [
    "train_data = pd.read_csv('train.csv')"
   ]
  },
  {
   "cell_type": "markdown",
   "id": "c8108a47",
   "metadata": {},
   "source": [
    "## Statistical Visualizations"
   ]
  },
  {
   "cell_type": "markdown",
   "id": "914d48ee",
   "metadata": {},
   "source": [
    "##### Shapes of the data"
   ]
  },
  {
   "cell_type": "code",
   "execution_count": null,
   "id": "e1d5d57c",
   "metadata": {},
   "outputs": [],
   "source": [
    "train_data.shape"
   ]
  },
  {
   "cell_type": "markdown",
   "id": "1847107c",
   "metadata": {},
   "source": [
    "##### Head & Tail of the data"
   ]
  },
  {
   "cell_type": "code",
   "execution_count": null,
   "id": "c9d8d013",
   "metadata": {},
   "outputs": [],
   "source": [
    "train_data.head()"
   ]
  },
  {
   "cell_type": "code",
   "execution_count": null,
   "id": "dfa5b2f8",
   "metadata": {},
   "outputs": [],
   "source": [
    "train_data.tail()"
   ]
  },
  {
   "cell_type": "markdown",
   "id": "9f75d44a",
   "metadata": {},
   "source": [
    "##### No. of null values per column"
   ]
  },
  {
   "cell_type": "code",
   "execution_count": null,
   "id": "2cc8bd1f",
   "metadata": {},
   "outputs": [],
   "source": [
    "train_data.isnull().sum()"
   ]
  },
  {
   "cell_type": "markdown",
   "id": "d2c4013d",
   "metadata": {},
   "source": [
    "#### The co-relation matrix"
   ]
  },
  {
   "cell_type": "code",
   "execution_count": null,
   "id": "e32011b9",
   "metadata": {},
   "outputs": [],
   "source": [
    "import matplotlib.pyplot as plt"
   ]
  },
  {
   "cell_type": "code",
   "execution_count": null,
   "id": "6b72535c",
   "metadata": {},
   "outputs": [],
   "source": [
    "corr_mat = train_data.corr()"
   ]
  },
  {
   "cell_type": "code",
   "execution_count": null,
   "id": "9ccdc06b",
   "metadata": {},
   "outputs": [],
   "source": [
    "sns.heatmap(corr_mat, annot=True)\n",
    "plt.show()"
   ]
  },
  {
   "cell_type": "markdown",
   "id": "2b2d27a8",
   "metadata": {},
   "source": [
    "#### Splitting the data"
   ]
  },
  {
   "cell_type": "code",
   "execution_count": null,
   "id": "8f86dbcd",
   "metadata": {},
   "outputs": [],
   "source": [
    "train_data_y = train_data['Survived']"
   ]
  },
  {
   "cell_type": "code",
   "execution_count": null,
   "id": "450fb841",
   "metadata": {},
   "outputs": [],
   "source": [
    "train_data_X = train_data.drop(['Survived'], axis=1)"
   ]
  },
  {
   "cell_type": "code",
   "execution_count": null,
   "id": "e833d249",
   "metadata": {},
   "outputs": [],
   "source": [
    "from sklearn.model_selection import train_test_split"
   ]
  },
  {
   "cell_type": "code",
   "execution_count": null,
   "id": "bcd52eda",
   "metadata": {},
   "outputs": [],
   "source": [
    "X_train, X_test, y_train, y_test = train_test_split(train_data_X, train_data_y, test_size=0.2)"
   ]
  },
  {
   "cell_type": "markdown",
   "id": "139b1692",
   "metadata": {},
   "source": [
    "#### Model Building"
   ]
  },
  {
   "cell_type": "code",
   "execution_count": null,
   "id": "19dd22ac",
   "metadata": {},
   "outputs": [],
   "source": [
    "import autosklearn.classification"
   ]
  },
  {
   "cell_type": "code",
   "execution_count": null,
   "id": "25f22ab8",
   "metadata": {},
   "outputs": [],
   "source": [
    "automl = autosklearn.classification.AutoSklearnClassifier()"
   ]
  },
  {
   "cell_type": "code",
   "execution_count": null,
   "id": "b067288d",
   "metadata": {},
   "outputs": [],
   "source": [
    "automl.fit(X_train, y_train)"
   ]
  },
  {
   "cell_type": "markdown",
   "id": "9cf9b943",
   "metadata": {},
   "source": [
    "Performance Measures"
   ]
  },
  {
   "cell_type": "code",
   "execution_count": null,
   "id": "9b136a3b",
   "metadata": {},
   "outputs": [],
   "source": [
    "from sklearn.metrics import accuracy_score"
   ]
  },
  {
   "cell_type": "code",
   "execution_count": null,
   "id": "a2280b31",
   "metadata": {},
   "outputs": [],
   "source": [
    "y_hat = automl.predict(X_test)"
   ]
  },
  {
   "cell_type": "code",
   "execution_count": null,
   "id": "53c53910",
   "metadata": {},
   "outputs": [],
   "source": [
    "print('Accuracy score', accuracy_score(y_test, y_hat))"
   ]
  },
  {
   "cell_type": "markdown",
   "id": "ec9d5f9a",
   "metadata": {},
   "source": [
    "##### Run Information of the models"
   ]
  },
  {
   "cell_type": "code",
   "execution_count": null,
   "id": "60d5418d",
   "metadata": {},
   "outputs": [],
   "source": [
    "print(automl.sprint_statistics())"
   ]
  },
  {
   "cell_type": "code",
   "execution_count": null,
   "id": "1116e398",
   "metadata": {},
   "outputs": [],
   "source": [
    "import pprint"
   ]
  },
  {
   "cell_type": "code",
   "execution_count": null,
   "id": "0f54f64f",
   "metadata": {},
   "outputs": [],
   "source": [
    "pprint(automl.show_models(), indent=4)"
   ]
  },
  {
   "cell_type": "markdown",
   "id": "ae6e38ea",
   "metadata": {},
   "source": [
    "#### Saving the model"
   ]
  },
  {
   "cell_type": "code",
   "execution_count": null,
   "id": "5973e87c",
   "metadata": {},
   "outputs": [],
   "source": [
    "import pickle"
   ]
  },
  {
   "cell_type": "code",
   "execution_count": null,
   "id": "4cd9ee06",
   "metadata": {},
   "outputs": [],
   "source": [
    "pickle.dump(automl, open('saved_model.sav', 'wb'))"
   ]
  }
 ],
 "metadata": {},
 "nbformat": 4,
 "nbformat_minor": 5
}
