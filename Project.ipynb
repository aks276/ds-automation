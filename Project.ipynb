{
 "cells": [
  {
   "cell_type": "code",
   "execution_count": null,
   "id": "d64072ef",
   "metadata": {},
   "outputs": [],
   "source": [
    "!pip install pandas seaborn auto-sklearn"
   ]
  },
  {
   "cell_type": "code",
   "execution_count": null,
   "id": "b625007f",
   "metadata": {},
   "outputs": [],
   "source": [
    "!pip install scikit-learn==1.0.2"
   ]
  },
  {
   "cell_type": "code",
   "execution_count": null,
   "id": "4f3bfa8b",
   "metadata": {},
   "outputs": [],
   "source": [
    "import pandas as pd"
   ]
  },
  {
   "cell_type": "code",
   "execution_count": null,
   "id": "f9bd0b70",
   "metadata": {},
   "outputs": [],
   "source": [
    "import seaborn as sns"
   ]
  },
  {
   "cell_type": "code",
   "execution_count": null,
   "id": "a0705b3b",
   "metadata": {},
   "outputs": [],
   "source": [
    "train_data = pd.read_csv('train.csv')"
   ]
  },
  {
   "cell_type": "markdown",
   "id": "73ce8273",
   "metadata": {},
   "source": [
    "## Statistical Visualizations"
   ]
  },
  {
   "cell_type": "markdown",
   "id": "89ec7d9b",
   "metadata": {},
   "source": [
    "##### Shapes of the data"
   ]
  },
  {
   "cell_type": "code",
   "execution_count": null,
   "id": "6b25c224",
   "metadata": {},
   "outputs": [],
   "source": [
    "train_data.shape"
   ]
  },
  {
   "cell_type": "markdown",
   "id": "57128f62",
   "metadata": {},
   "source": [
    "##### Head & Tail of the data"
   ]
  },
  {
   "cell_type": "code",
   "execution_count": null,
   "id": "9c946563",
   "metadata": {},
   "outputs": [],
   "source": [
    "train_data.head()"
   ]
  },
  {
   "cell_type": "code",
   "execution_count": null,
   "id": "1af357fa",
   "metadata": {},
   "outputs": [],
   "source": [
    "train_data.tail()"
   ]
  },
  {
   "cell_type": "markdown",
   "id": "23501c4f",
   "metadata": {},
   "source": [
    "##### No. of null values per column"
   ]
  },
  {
   "cell_type": "code",
   "execution_count": null,
   "id": "62275e4a",
   "metadata": {},
   "outputs": [],
   "source": [
    "train_data.isnull().sum()"
   ]
  },
  {
   "cell_type": "markdown",
   "id": "47ac3b0c",
   "metadata": {},
   "source": [
    "#### The co-relation matrix"
   ]
  },
  {
   "cell_type": "code",
   "execution_count": null,
   "id": "fa8a1b5f",
   "metadata": {},
   "outputs": [],
   "source": [
    "import matplotlib.pyplot as plt"
   ]
  },
  {
   "cell_type": "code",
   "execution_count": null,
   "id": "5de011ef",
   "metadata": {},
   "outputs": [],
   "source": [
    "corr_mat = train_data.corr()"
   ]
  },
  {
   "cell_type": "code",
   "execution_count": null,
   "id": "045292c2",
   "metadata": {},
   "outputs": [],
   "source": [
    "sns.heatmap(corr_mat, annot=True)\n",
    "plt.show()"
   ]
  },
  {
   "cell_type": "markdown",
   "id": "9a055aa7",
   "metadata": {},
   "source": [
    "#### Splitting the data"
   ]
  },
  {
   "cell_type": "code",
   "execution_count": null,
   "id": "74fddb63",
   "metadata": {},
   "outputs": [],
   "source": [
    "train_data_y = train_data['Survived']"
   ]
  },
  {
   "cell_type": "code",
   "execution_count": null,
   "id": "ea641eb2",
   "metadata": {},
   "outputs": [],
   "source": [
    "train_data_X = train_data.drop(['Survived'], axis=1)"
   ]
  },
  {
   "cell_type": "code",
   "execution_count": null,
   "id": "1244f686",
   "metadata": {},
   "outputs": [],
   "source": [
    "from sklearn.model_selection import train_test_split"
   ]
  },
  {
   "cell_type": "code",
   "execution_count": null,
   "id": "fb29b82e",
   "metadata": {},
   "outputs": [],
   "source": [
    "X_train, X_test, y_train, y_test = train_test_split(train_data_X, train_data_y, test_size=0.2)"
   ]
  },
  {
   "cell_type": "markdown",
   "id": "8f43e547",
   "metadata": {},
   "source": [
    "#### Model Building"
   ]
  },
  {
   "cell_type": "code",
   "execution_count": null,
   "id": "9c1956ea",
   "metadata": {},
   "outputs": [],
   "source": [
    "import autosklearn.classification"
   ]
  },
  {
   "cell_type": "code",
   "execution_count": null,
   "id": "21641f72",
   "metadata": {},
   "outputs": [],
   "source": [
    "automl = autosklearn.classification.AutoSklearnClassifier()"
   ]
  },
  {
   "cell_type": "code",
   "execution_count": null,
   "id": "5dcd90ad",
   "metadata": {},
   "outputs": [],
   "source": [
    "automl.fit(X_train, y_train)"
   ]
  },
  {
   "cell_type": "markdown",
   "id": "9b20704e",
   "metadata": {},
   "source": [
    "Performance Measures"
   ]
  },
  {
   "cell_type": "code",
   "execution_count": null,
   "id": "8d2df91f",
   "metadata": {},
   "outputs": [],
   "source": [
    "from sklearn.metrics import accuracy_score"
   ]
  },
  {
   "cell_type": "code",
   "execution_count": null,
   "id": "2c073b87",
   "metadata": {},
   "outputs": [],
   "source": [
    "y_hat = automl.predict(X_test)"
   ]
  },
  {
   "cell_type": "code",
   "execution_count": null,
   "id": "0754f3e1",
   "metadata": {},
   "outputs": [],
   "source": [
    "print('Accuracy score', accuracy_score(y_test, y_hat))"
   ]
  },
  {
   "cell_type": "markdown",
   "id": "5861ffed",
   "metadata": {},
   "source": [
    "##### Run Information of the models"
   ]
  },
  {
   "cell_type": "code",
   "execution_count": null,
   "id": "cec5489b",
   "metadata": {},
   "outputs": [],
   "source": [
    "print(automl.sprint_statistics())"
   ]
  },
  {
   "cell_type": "code",
   "execution_count": null,
   "id": "0d0103f2",
   "metadata": {},
   "outputs": [],
   "source": [
    "import pprint"
   ]
  },
  {
   "cell_type": "code",
   "execution_count": null,
   "id": "d69b9c99",
   "metadata": {},
   "outputs": [],
   "source": [
    "pprint(automl.show_models(), indent=4)"
   ]
  },
  {
   "cell_type": "markdown",
   "id": "19ddbd0c",
   "metadata": {},
   "source": [
    "#### Saving the model"
   ]
  },
  {
   "cell_type": "code",
   "execution_count": null,
   "id": "4a2b6ad9",
   "metadata": {},
   "outputs": [],
   "source": [
    "import pickle"
   ]
  },
  {
   "cell_type": "code",
   "execution_count": null,
   "id": "2f0d1b34",
   "metadata": {},
   "outputs": [],
   "source": [
    "pickle.dump(automl, open('saved_model.sav', 'wb'))"
   ]
  },
  {
   "cell_type": "markdown",
   "id": "607f1ac8",
   "metadata": {},
   "source": [
    "#### Inference"
   ]
  },
  {
   "cell_type": "code",
   "execution_count": null,
   "id": "b3c1d711",
   "metadata": {},
   "outputs": [],
   "source": [
    "model = pickle.load(open('saved_model.sav', 'rb'))"
   ]
  },
  {
   "cell_type": "code",
   "execution_count": null,
   "id": "3c754baf",
   "metadata": {},
   "outputs": [],
   "source": [
    "#### TODO: Code for determing input"
   ]
  },
  {
   "cell_type": "code",
   "execution_count": null,
   "id": "e8d20f4f",
   "metadata": {},
   "outputs": [],
   "source": [
    "model.predict()"
   ]
  }
 ],
 "metadata": {},
 "nbformat": 4,
 "nbformat_minor": 5
}
