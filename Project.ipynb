{
 "cells": [
  {
   "cell_type": "code",
   "execution_count": null,
   "id": "d47bdc76",
   "metadata": {},
   "outputs": [],
   "source": [
    "!pip install pandas seaborn auto-sklearn"
   ]
  },
  {
   "cell_type": "code",
   "execution_count": null,
   "id": "9beb1a43",
   "metadata": {},
   "outputs": [],
   "source": [
    "!pip install scikit-learn==1.0.2"
   ]
  },
  {
   "cell_type": "code",
   "execution_count": null,
   "id": "826c8d21",
   "metadata": {},
   "outputs": [],
   "source": [
    "import pandas as pd"
   ]
  },
  {
   "cell_type": "code",
   "execution_count": null,
   "id": "796ff4b0",
   "metadata": {},
   "outputs": [],
   "source": [
    "import seaborn as sns"
   ]
  },
  {
   "cell_type": "code",
   "execution_count": null,
   "id": "cc6c0890",
   "metadata": {},
   "outputs": [],
   "source": [
    "train_data = pd.read_csv('train.csv')"
   ]
  },
  {
   "cell_type": "markdown",
   "id": "cd3936b3",
   "metadata": {},
   "source": [
    "## Statistical Visualizations"
   ]
  },
  {
   "cell_type": "markdown",
   "id": "4bfa2547",
   "metadata": {},
   "source": [
    "##### Shapes of the data"
   ]
  },
  {
   "cell_type": "code",
   "execution_count": null,
   "id": "926b4fed",
   "metadata": {},
   "outputs": [],
   "source": [
    "train_data.shape"
   ]
  },
  {
   "cell_type": "markdown",
   "id": "95145985",
   "metadata": {},
   "source": [
    "##### Head & Tail of the data"
   ]
  },
  {
   "cell_type": "code",
   "execution_count": null,
   "id": "8554e0f1",
   "metadata": {},
   "outputs": [],
   "source": [
    "train_data.head()"
   ]
  },
  {
   "cell_type": "code",
   "execution_count": null,
   "id": "970eef3e",
   "metadata": {},
   "outputs": [],
   "source": [
    "train_data.tail()"
   ]
  },
  {
   "cell_type": "markdown",
   "id": "82222f2c",
   "metadata": {},
   "source": [
    "##### No. of null values per column"
   ]
  },
  {
   "cell_type": "code",
   "execution_count": null,
   "id": "8791b1f3",
   "metadata": {},
   "outputs": [],
   "source": [
    "train_data.isnull().sum()"
   ]
  },
  {
   "cell_type": "markdown",
   "id": "d41d5532",
   "metadata": {},
   "source": [
    "#### The co-relation matrix"
   ]
  },
  {
   "cell_type": "code",
   "execution_count": null,
   "id": "dcbf801c",
   "metadata": {},
   "outputs": [],
   "source": [
    "import matplotlib.pyplot as plt"
   ]
  },
  {
   "cell_type": "code",
   "execution_count": null,
   "id": "9e132dce",
   "metadata": {},
   "outputs": [],
   "source": [
    "corr_mat = train_data.corr()"
   ]
  },
  {
   "cell_type": "code",
   "execution_count": null,
   "id": "0fe78bf1",
   "metadata": {},
   "outputs": [],
   "source": [
    "sns.heatmap(corr_mat, annot=True)\n",
    "plt.show()"
   ]
  },
  {
   "cell_type": "code",
   "execution_count": null,
   "id": "af63dc6a",
   "metadata": {},
   "outputs": [],
   "source": [
    "import sklearn.model_selection\n",
    "import sklearn.metrics"
   ]
  },
  {
   "cell_type": "code",
   "execution_count": null,
   "id": "ba6d0d6b",
   "metadata": {},
   "outputs": [],
   "source": [
    "import autosklearn.classification"
   ]
  },
  {
   "cell_type": "markdown",
   "id": "a6a077a7",
   "metadata": {},
   "source": [
    "#### Splitting the data"
   ]
  },
  {
   "cell_type": "code",
   "execution_count": null,
   "id": "e0711b7d",
   "metadata": {},
   "outputs": [],
   "source": [
    "train_data_y = train_data['Survived']"
   ]
  },
  {
   "cell_type": "code",
   "execution_count": null,
   "id": "dd93df8f",
   "metadata": {},
   "outputs": [],
   "source": [
    "train_data_X = train_data.drop(['Survived'], axis=1)"
   ]
  },
  {
   "cell_type": "code",
   "execution_count": null,
   "id": "99835b35",
   "metadata": {},
   "outputs": [],
   "source": [
    "from sklearn.model_selection import train_test_split"
   ]
  },
  {
   "cell_type": "code",
   "execution_count": null,
   "id": "a186b0e9",
   "metadata": {},
   "outputs": [],
   "source": [
    "X_train, X_test, y_train, y_test = train_test_split(train_data_X, train_data_y, test_size=0.2)"
   ]
  },
  {
   "cell_type": "markdown",
   "id": "5f1a0501",
   "metadata": {},
   "source": [
    "#### Model Building"
   ]
  },
  {
   "cell_type": "code",
   "execution_count": null,
   "id": "6c509820",
   "metadata": {},
   "outputs": [],
   "source": [
    "automl = autosklearn.classification.AutoSklearnClassifier()"
   ]
  },
  {
   "cell_type": "code",
   "execution_count": null,
   "id": "5e896288",
   "metadata": {},
   "outputs": [],
   "source": [
    "automl.fit(X_train, y_train)"
   ]
  },
  {
   "cell_type": "markdown",
   "id": "2d5ac7df",
   "metadata": {},
   "source": [
    "Performance Measures"
   ]
  },
  {
   "cell_type": "code",
   "execution_count": null,
   "id": "2f09723b",
   "metadata": {},
   "outputs": [],
   "source": [
    "from sklearn.metrics import accuracy_score"
   ]
  },
  {
   "cell_type": "code",
   "execution_count": null,
   "id": "45ad0b91",
   "metadata": {},
   "outputs": [],
   "source": [
    "y_hat = automl.predict(X_test)"
   ]
  },
  {
   "cell_type": "code",
   "execution_count": null,
   "id": "ed19032f",
   "metadata": {},
   "outputs": [],
   "source": [
    "print('Accuracy score', accuracy_score(y_test, y_hat))"
   ]
  }
 ],
 "metadata": {},
 "nbformat": 4,
 "nbformat_minor": 5
}
